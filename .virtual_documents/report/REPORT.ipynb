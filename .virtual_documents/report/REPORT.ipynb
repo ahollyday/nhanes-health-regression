


import pandas as pd
from IPython.display import Image
import matplotlib.pyplot as plt
import seaborn as sns





df = pd.read_csv("files/data_report/processed/clean_data.csv")
df.describe()[["total_cholesterol"]]





Image("files/figures_report/eda/hist_targets.png")


Image("files/figures_report/eda/hist_all_features.png")


Image("files/figures_report/eda/boxplot_total_cholesterol.png")





Image("files/figures_report/eda/univariate_total_cholesterol.png")


Image("files/figures_report/eda/correlation_heatmap.png")














Image("files/figures_report/evaluation/optuna_visuals/xgboost_opt_history.png")





Image("files/figures_report/evaluation/optuna_visuals/xgboost_parallel_coord.png")





Image("files/figures_report/evaluation/optuna_visuals/xgboost_param_importance.png")





Image("files/figures_report/evaluation/cv_fold_analysis.png")





df_summary = pd.read_csv("files/summaries_report/train_metrics.csv")
display(df_summary)


# Extract values
model_names = df_summary["Model"]
r2_values = df_summary["R2 - total_cholesterol"]
rmse_values = df_summary["RMSE - total_cholesterol"]

# Plot
fig, axes = plt.subplots(1, 2, figsize=(12, 4), dpi=300)

# R² subplot
axes[0].bar(model_names, r2_values, color='steelblue')
axes[0].set_title("Training R²")
axes[0].set_ylabel("R²")
axes[0].set_ylim(0, 1)

# RMSE subplot
axes[1].bar(model_names, rmse_values, color='darkorange')
axes[1].set_title("Training RMSE")
axes[1].set_ylabel("RMSE (mg/dL)")

# Shared formatting
for ax in axes:
    ax.tick_params(axis='x', labelrotation=90, labelsize=8)

plt.tight_layout()
plt.show()






df_train_res = pd.read_csv("files/summaries_report/train_residuals.csv")

# === Settings ===
target_name = "total_cholesterol"
models_to_plot = df_train_res["Model"].unique()  # or manually specify

plt.figure(figsize=(10, 5), dpi=300)

# === KDE for each model's residuals ===
for model in models_to_plot:
    residuals = df_train_res.query("Model == @model and Target == @target_name")["Residual"]
    sns.kdeplot(residuals, label=model, linewidth=2)

# === Styling ===
plt.axvline(0, color="black", linestyle="--", linewidth=1)
plt.xlabel("Residual (True - Predicted)")
plt.ylabel("Density")
plt.title(f"Training Residual KDEs – {target_name.replace('_', ' ').title()}")
plt.ylim(0,0.05)
plt.xlim(-75, 75)
plt.legend(title="Model")
plt.tight_layout()
plt.show()









# Load data
df_train = pd.read_csv("files/summaries_report/train_metrics.csv")
df_test = pd.read_csv("files/summaries_report/test_metrics.csv")

display(df_test)


# Load data
df_train = pd.read_csv("files/summaries_report/train_metrics.csv")
df_test = pd.read_csv("files/summaries_report/test_metrics.csv")

# Define model names (assume same order for train and test)
models = df_train["Model"].values
x = np.arange(len(models))  # label locations
width = 0.35  # width of the bars

# Plot
fig, axes = plt.subplots(1, 2, figsize=(12, 4), dpi=300)

# R² subplot
axes[0].bar(x - width/2, df_train["R2 - total_cholesterol"], width, label="Train", color="steelblue")
axes[0].bar(x + width/2, df_test["R2 - total_cholesterol"], width, label="Test", color="orange")
axes[0].set_title("R² Comparison (Train vs. Test)")
axes[0].set_ylabel("R²")
axes[0].set_ylim(0, 1)
axes[0].set_xticks(x)
axes[0].set_xticklabels(models, rotation=90, fontsize=8)
axes[0].legend()

# RMSE subplot
axes[1].bar(x - width/2, df_train["RMSE - total_cholesterol"], width, label="Train", color="steelblue")
axes[1].bar(x + width/2, df_test["RMSE - total_cholesterol"], width, label="Test", color="orange")
axes[1].set_title("RMSE Comparison (Train vs. Test)")
axes[1].set_ylabel("RMSE (mg/dL)")
axes[1].set_xticks(x)
axes[1].set_xticklabels(models, rotation=90, fontsize=8)
# axes[1].legend()

plt.tight_layout()
plt.show()






import matplotlib.pyplot as plt
import seaborn as sns
import pandas as pd

# Load data (update paths if needed)
df_train_res = pd.read_csv("files/summaries_report/train_residuals.csv")
df_test_res = pd.read_csv("files/summaries_report/test_residuals.csv")

# Clean model names
df_train_res["Model"] = df_train_res["Model"].str.title()
df_test_res["Model"] = df_test_res["Model"].str.title()

# Settings
target_name = "total_cholesterol"
models = sorted(df_train_res["Model"].unique())
palette = dict(zip(models, sns.color_palette(n_colors=len(models))))

# Plot
fig, ax1 = plt.subplots(figsize=(10, 5), dpi=300)
ax2 = ax1.twinx()  # Right y-axis

for model in models:
    # Extract residuals
    resid_train = df_train_res.query("Model == @model and Target == @target_name")["Residual"]
    resid_test = df_test_res.query("Model == @model and Target == @target_name")["Residual"]
    
    # KDE plots
    sns.kdeplot(resid_train, ax=ax1, color=palette[model], linestyle="-", linewidth=2, label=f"{model} (Train)")
    sns.kdeplot(resid_test, ax=ax2, color=palette[model], linestyle="--", linewidth=2, label=f"{model} (Test)")

# Styling
ax1.set_xlim(-75, 75)
ax1.set_ylim(0, 0.05)
ax2.set_ylim(0, 0.02)

ax1.set_xlabel("Residual (True - Predicted)")
ax1.set_ylabel("Train Density")
ax2.set_ylabel("Test Density")
ax1.axvline(0, color="black", linestyle="--", linewidth=1)
plt.title(f"Residual KDEs – {target_name.replace('_', ' ').title()}")

# Legend
lines_labels = [ax.get_legend_handles_labels() for ax in [ax1, ax2]]
lines, labels = [sum(lol, []) for lol in zip(*lines_labels)]
ax1.legend(lines, labels, title="Model", loc="upper right")

plt.tight_layout()
plt.show()



import matplotlib.pyplot as plt
import seaborn as sns

df_train_res["Model"] = df_train_res["Model"].str.title()
df_test_res["Model"] = df_test_res["Model"].str.title()

# === Settings ===
target_name = "total_cholesterol"
models_to_plot = df_train_res["Model"].unique()

plt.figure(figsize=(10, 5), dpi=300)

# === Use a consistent color palette ===
palette = dict(zip(models_to_plot, sns.color_palette(n_colors=len(models_to_plot))))

# === Plot training and test residuals ===
for model in models_to_plot:
    train_resid = df_train_res.query("Model == @model and Target == @target_name")["Residual"]
    test_resid = df_test_res.query("Model == @model and Target == @target_name")["Residual"]
    
    sns.kdeplot(train_resid, label=f"{model} (Train)", linestyle="-", linewidth=2, color=palette[model])
    sns.kdeplot(test_resid, label=f"{model} (Test)", linestyle="--", linewidth=2, color=palette[model])

# === Styling ===
plt.axvline(0, color="black", linestyle="--", linewidth=1)
plt.xlabel("Residual (True - Predicted)")
plt.ylabel("Density")
plt.title(f"Residual KDEs – {target_name.replace('_', ' ').title()}")
plt.ylim(0, 0.05)
plt.xlim(-75, 75)
plt.legend(title="Model")
plt.tight_layout()
plt.show()






df_test_res = pd.read_csv("files/summaries_report/test_residuals.csv")

# === Settings ===
target_name = "total_cholesterol"
models_to_plot = df_train_res["Model"].unique()  # or manually specify

plt.figure(figsize=(10, 5), dpi=300)

# === KDE for each model's residuals ===
for model in models_to_plot:
    residuals = df_train_res.query("Model == @model and Target == @target_name")["Residual"]
    sns.kdeplot(residuals, label=model, linewidth=2)

# === Styling ===
plt.axvline(0, color="black", linestyle="--", linewidth=1)
plt.xlabel("Residual (True - Predicted)")
plt.ylabel("Density")
plt.title(f"Training Residual KDEs – {target_name.replace('_', ' ').title()}")
plt.ylim(0,0.05)
plt.xlim(-75, 75)
plt.legend(title="Model")
plt.tight_layout()
plt.show()














































