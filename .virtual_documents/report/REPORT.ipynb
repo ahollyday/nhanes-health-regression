


import pandas as pd
import numpy as np
from IPython.display import Image
import matplotlib.pyplot as plt
import seaborn as sns





df = pd.read_csv("files/data_report/processed/clean_data.csv")
df.describe()[["total_cholesterol"]]





Image("files/figures_report/eda/hist_targets.png")





Image("files/figures_report/eda/hist_all_features.png")








Image("files/figures_report/eda/boxplot_total_cholesterol.png")





Image("files/figures_report/eda/univariate_total_cholesterol.png")





Image("files/figures_report/eda/correlation_heatmap.png")











Image("files/figures_report/evaluation/optuna_visuals/xgboost_opt_history.png")





Image("files/figures_report/evaluation/optuna_visuals/xgboost_parallel_coord.png")





Image("files/figures_report/evaluation/optuna_visuals/xgboost_param_importance.png")





Image("files/figures_report/evaluation/cv_fold_analysis.png")





df_summary = pd.read_csv("files/summaries_report/train_metrics.csv")
display(df_summary)


# Extract values
model_names = df_summary["Model"]
r2_values = df_summary["R2 - total_cholesterol"]
rmse_values = df_summary["RMSE - total_cholesterol"]

# Plot
fig, axes = plt.subplots(1, 2, figsize=(12, 4), dpi=300)

# R² subplot
axes[0].bar(model_names, r2_values, color='steelblue')
axes[0].set_title("Training R²")
axes[0].set_ylabel("R²")
axes[0].set_ylim(0, 1)

# RMSE subplot
axes[1].bar(model_names, rmse_values, color='darkorange')
axes[1].set_title("Training RMSE")
axes[1].set_ylabel("RMSE (mg/dL)")

# Shared formatting
for ax in axes:
    ax.tick_params(axis='x', labelrotation=90, labelsize=8)

plt.tight_layout()
plt.show()





df_train_res = pd.read_csv("files/summaries_report/train_residuals.csv")

# === Settings ===
target_name = "total_cholesterol"
models_to_plot = df_train_res["Model"].unique()  # or manually specify

plt.figure(figsize=(10, 5), dpi=300)

# === KDE for each model's residuals ===
for model in models_to_plot:
    residuals = df_train_res.query("Model == @model and Target == @target_name")["Residual"]
    sns.kdeplot(residuals, label=model, linewidth=2)

# === Styling ===
plt.axvline(0, color="black", linestyle="--", linewidth=1)
plt.xlabel("Residual (True - Predicted)")
plt.ylabel("Density")
plt.title(f"Training Residual KDEs – {target_name.replace('_', ' ').title()}")
plt.ylim(0,0.05)
plt.xlim(-75, 75)
plt.legend(title="Model")
plt.tight_layout()
plt.show()









# Load data
df_train = pd.read_csv("files/summaries_report/train_metrics.csv")
df_test = pd.read_csv("files/summaries_report/test_metrics.csv")

display(df_test)


# Load data
df_train = pd.read_csv("files/summaries_report/train_metrics.csv")
df_test = pd.read_csv("files/summaries_report/test_metrics.csv")

# Define model names (assume same order for train and test)
models = df_train["Model"].values
x = np.arange(len(models))  # label locations
width = 0.35  # width of the bars

# Plot
fig, axes = plt.subplots(1, 2, figsize=(12, 4), dpi=300)

# R² subplot
axes[0].bar(x - width/2, df_train["R2 - total_cholesterol"], width, label="Train", color="steelblue")
axes[0].bar(x + width/2, df_test["R2 - total_cholesterol"], width, label="Test", color="orange")
axes[0].set_title("R² Comparison (Train vs. Test)")
axes[0].set_ylabel("R²")
axes[0].set_ylim(0, 1)
axes[0].set_xticks(x)
axes[0].set_xticklabels(models, rotation=90, fontsize=8)
axes[0].legend()

# RMSE subplot
axes[1].bar(x - width/2, df_train["RMSE - total_cholesterol"], width, label="Train", color="steelblue")
axes[1].bar(x + width/2, df_test["RMSE - total_cholesterol"], width, label="Test", color="orange")
axes[1].set_title("RMSE Comparison (Train vs. Test)")
axes[1].set_ylabel("RMSE (mg/dL)")
axes[1].set_xticks(x)
axes[1].set_xticklabels(models, rotation=90, fontsize=8)
# axes[1].legend()

plt.tight_layout()
plt.show()



Image("files/figures_report/evaluation/train_test_metrics_comparison.png")








# Load data (update paths if needed)
df_train_res = pd.read_csv("files/summaries_report/train_residuals.csv")
df_test_res = pd.read_csv("files/summaries_report/test_residuals.csv")

# Clean model names
df_train_res["Model"] = df_train_res["Model"].str.title()
df_test_res["Model"] = df_test_res["Model"].str.title()

# Settings
target_name = "total_cholesterol"
models = sorted(df_train_res["Model"].unique())
palette = dict(zip(models, sns.color_palette(n_colors=len(models))))

# Plot
fig, ax1 = plt.subplots(figsize=(10, 5), dpi=300)
ax2 = ax1.twinx()  # Right y-axis

for model in models:
    # Extract residuals
    resid_train = df_train_res.query("Model == @model and Target == @target_name")["Residual"]
    resid_test = df_test_res.query("Model == @model and Target == @target_name")["Residual"]
    
    # KDE plots
    sns.kdeplot(resid_train, ax=ax1, color=palette[model], linestyle="-", linewidth=2, label=f"{model} (Train)")
    sns.kdeplot(resid_test, ax=ax2, color=palette[model], linestyle="--", linewidth=2, label=f"{model} (Test)")

# Styling
ax1.set_xlim(-75, 75)
ax1.set_ylim(0, 0.05)
ax2.set_ylim(0, 0.02)

ax1.set_xlabel("Residual (True - Predicted)")
ax1.set_ylabel("Train Density")
ax2.set_ylabel("Test Density")
ax1.axvline(0, color="black", linestyle="--", linewidth=1)
plt.title(f"Residual KDEs – {target_name.replace('_', ' ').title()}")

# Legend
lines_labels = [ax.get_legend_handles_labels() for ax in [ax1, ax2]]
lines, labels = [sum(lol, []) for lol in zip(*lines_labels)]
ax1.legend(lines, labels, title="Model", loc="upper right")

plt.tight_layout()
plt.show()









df_train.head()


df_train = df_train_res
df_test = df_test_res

# Format model names consistently
df_train["Model"] = df_train["Model"].str.title()
df_test["Model"] = df_test["Model"].str.title()

# Compute predicted values
df_train["Predicted"] = df_train["True"] - df_train["Residual"]
df_test["Predicted"] = df_test["True"] - df_test["Residual"]

# Set up the plot
models = df_train["Model"].unique()
n_models = len(models)
n_cols = 3
n_rows = (n_models + n_cols - 1) // n_cols

fig, axes = plt.subplots(n_rows, n_cols, figsize=(15, 4 * n_rows), dpi=150)
axes = axes.flatten()

# Plot each model
for i, model in enumerate(models):
    ax = axes[i]
    train_data = df_train[df_train["Model"] == model]
    test_data = df_test[df_test["Model"] == model]

    ax.scatter(train_data["True"], train_data["Predicted"], label="Train", alpha=0.4, s=10, color="steelblue")
    ax.scatter(test_data["True"], test_data["Predicted"], label="Test", alpha=0.4, s=10, color="darkorange")
    ax.plot([0, 350], [0, 350], "k--", lw=1)

    ax.set_title(model)
    ax.set_xlabel("True Total Cholesterol")
    ax.set_ylabel("Predicted")

    ax.set_xlim(100, 300)
    ax.set_ylim(100, 300)
    ax.legend()

plt.tight_layout()
plt.show()








Image("files/figures_report/feature_importance/feature_importance_gradient_boosting_total_cholesterol.png")


Image("files/figures_report/feature_importance/feature_importance_xgboost_total_cholesterol.png")


Image("files/figures_report/feature_importance/feature_importance_random_forest_total_cholesterol.png")





# Load data
df_pred_res = pd.read_csv("files/summaries_report/prediction_residuals_2013_2014.csv")

# Clean model names
df_pred_res["Model"] = df_pred_res["Model"].str.title()

# Settings
target_name = "total_cholesterol"
models = sorted(df_pred_res["Model"].unique())
palette = dict(zip(models, sns.color_palette(n_colors=len(models))))

# Plot
fig, ax1 = plt.subplots(figsize=(10, 5), dpi=300)

for model in models:
    resid_pred = df_pred_res.query("Model == @model and Target == @target_name")["Residual"]
    sns.kdeplot(resid_pred, ax=ax1, color=palette[model], linestyle="-", linewidth=2, label=model)

# Styling
ax1.set_xlim(-75, 75)
ax1.set_ylim(0, 0.025)
ax1.set_xlabel("NHANES 2013-2014 Residuals (True - Predicted)")
ax1.set_ylabel("Density")
ax1.set_title(f"Residual KDEs – {target_name.replace('_', ' ').title()}")
ax1.legend(title="Model")

plt.tight_layout()
plt.show()






# === Load data ===
df_pred_res = pd.read_csv("files/summaries_report/prediction_residuals_2013_2014.csv")

# === Clean model names and compute predicted values ===
df_pred_res["Model"] = df_pred_res["Model"].str.title()
df_pred_res["Predicted"] = df_pred_res["True"] - df_pred_res["Residual"]

# === Setup for plotting ===
models = sorted(df_pred_res["Model"].unique())
n_models = len(models)
n_cols = 3
n_rows = (n_models + n_cols - 1) // n_cols

fig, axes = plt.subplots(n_rows, n_cols, figsize=(15, 4 * n_rows), dpi=150)
axes = axes.flatten()

# === Plot each model ===
for i, model in enumerate(models):
    ax = axes[i]
    model_data = df_pred_res[df_pred_res["Model"] == model]
    
    ax.scatter(model_data["True"], model_data["Predicted"], alpha=0.4, s=10, color="steelblue")
    ax.plot([100, 300], [100, 300], "k--", lw=1)  # 1:1 line

    ax.set_title(model)
    ax.set_xlabel("True Total Cholesterol")
    ax.set_ylabel("Predicted")
    ax.set_xlim(100, 300)
    ax.set_ylim(100, 300)

# === Hide any unused subplots ===
for j in range(i + 1, len(axes)):
    fig.delaxes(axes[j])

plt.tight_layout()
plt.show()






# Load the data
df_pred_met = pd.read_csv("files/summaries_report/prediction_metrics_2013_2014.csv")

# Extract values
model_names = df_pred_met["Model"]
r2_values = df_pred_met["R2 - total_cholesterol"]
rmse_values = df_pred_met["RMSE - total_cholesterol"]

# Create subplots
fig, axes = plt.subplots(1, 2, figsize=(12, 5), dpi=300)

# R² subplot
axes[0].bar(model_names, r2_values, color='steelblue')
axes[0].set_title("Test R²")
axes[0].set_ylabel("R²")
axes[0].set_ylim(0, 0.45)

# RMSE subplot
axes[1].bar(model_names, rmse_values, color='darkorange')
axes[1].set_title("Test RMSE")
axes[1].set_ylabel("RMSE (mg/dL)")

# Shared formatting
for ax in axes:
    ax.tick_params(axis='x', labelrotation=45, labelsize=8)

plt.tight_layout()
plt.show()







