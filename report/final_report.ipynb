# final_report.ipynb (Jupyter Notebook)

# Cell 1: Title + Intro
"""
# NHANES Health Regression: Final Report

This notebook summarizes the full modeling pipeline used to predict multiple health indicators (e.g., Vitamin D, HDL cholesterol) using NHANES survey data.
"""

# Cell 2: Imports
import pandas as pd
import numpy as np
import matplotlib.pyplot as plt
import seaborn as sns

# Cell 3: Load Data
# Adjust the path to wherever your final test predictions and features live
y_test = pd.read_csv("outputs/y_test.csv")
y_pred = pd.read_csv("outputs/y_pred.csv")

# Cell 4: Merge for evaluation
combined = y_test.copy()
combined.columns = [col + "_true" for col in combined.columns]
for col in y_pred.columns:
    combined[col + "_pred"] = y_pred[col]

# Cell 5: Compute metrics
from sklearn.metrics import r2_score, mean_squared_error

results = []
for col in y_pred.columns:
    r2 = r2_score(combined[col + "_true"], combined[col + "_pred"])
    rmse = mean_squared_error(combined[col + "_true"], combined[col + "_pred"], squared=False)
    results.append({"Target": col, "R²": r2, "RMSE": rmse})
results_df = pd.DataFrame(results)

# Cell 6: Plot R² and RMSE
fig, axes = plt.subplots(1, 2, figsize=(10, 4))
sns.barplot(data=results_df, x="R²", y="Target", ax=axes[0])
sns.barplot(data=results_df, x="RMSE", y="Target", ax=axes[1])
axes[0].set_title("R² by Target")
axes[1].set_title("RMSE by Target")
plt.tight_layout()
plt.show()

# Cell 7: Residual plots (example for one target)
target = results_df["Target"].iloc[0]
plt.figure(figsize=(6, 4))
plt.scatter(combined[f"{target}_true"], combined[f"{target}_true"] - combined[f"{target}_pred"], alpha=0.4)
plt.axhline(0, linestyle="--", color="gray")
plt.xlabel("True Value")
plt.ylabel("Residual")
plt.title(f"Residuals for {target}")
plt.show()

# Cell 8: Conclusion
"""
## Conclusion

The model performs well on several targets, particularly [insert top-performing metric]. Future steps include:
- Further feature engineering
- Model ensembling or stacking
- Deploying the model for interactive use (Streamlit, etc.)
"""

