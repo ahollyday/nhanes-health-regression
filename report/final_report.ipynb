{
 "cells": [
  {
   "cell_type": "markdown",
   "metadata": {},
   "source": [
    "# Final Report: NHANES Health Prediction Pipeline\n",
    "\n",
    "This notebook summarizes the final model performance, diagnostics, and key visualizations based on a cleaned dataset of ~5,800 individuals.\n",
    "\n",
    "## Objective\n",
    "Predict clinical biomarkers (HDL cholesterol and glycohemoglobin) from easily accessible demographic, lifestyle, and low-cost lab features using multi-output regression models."
   ]
  },
  {
   "cell_type": "code",
   "execution_count": null,
   "metadata": {},
   "outputs": [],
   "source": [
    "# Load required libraries\n",
    "import pandas as pd\n",
    "import matplotlib.pyplot as plt\n",
    "import seaborn as sns\n",
    "from pathlib import Path"
   ]
  },
  {
   "cell_type": "code",
   "execution_count": null,
   "metadata": {},
   "outputs": [],
   "source": [
    "# Load model performance summary\n",
    "results_df = pd.read_csv("outputs/final_model_metrics.csv")\n",
    "results_df"
   ]
  },
  {
   "cell_type": "markdown",
   "metadata": {},
   "source": [
    "## R² and RMSE Comparison by Model and Target"
   ]
  },
  {
   "cell_type": "code",
   "execution_count": null,
   "metadata": {},
   "outputs": [],
   "source": [
    "# Plot R² and RMSE side-by-side\n",
    "fig, axes = plt.subplots(1, 2, figsize=(12, 5), sharey=True)\n",
    "sns.barplot(data=results_df, x="R²", y="Model", hue="Target", ax=axes[0])\n",
    "sns.barplot(data=results_df, x="RMSE", y="Model", hue="Target", ax=axes[1])\n",
    "axes[0].set_title("R² by Model")\n",
    "axes[1].set_title("RMSE by Model")\n",
    "plt.tight_layout()\n",
    "plt.show()"
   ]
  },
  {
   "cell_type": "markdown",
   "metadata": {},
   "source": [
    "## Residual Plot (Example: Best Model)"
   ]
  },
  {
   "cell_type": "code",
   "execution_count": null,
   "metadata": {},
   "outputs": [],
   "source": [
    "# Load predictions\n",
    "y_test = pd.read_csv("outputs/y_test.csv")\n",
    "y_pred = pd.read_csv("outputs/y_pred.csv")\n",
    "target = y_pred.columns[0]  # First target as example\n",
    "plt.figure(figsize=(6, 4))\n",
    "plt.scatter(y_test[target], y_test[target] - y_pred[target], alpha=0.4)\n",
    "plt.axhline(0, linestyle='--', color='gray')\n",
    "plt.xlabel("True Value")\n",
    "plt.ylabel("Residual")\n",
    "plt.title(f"Residuals for {target}")\n",
    "plt.show()"
   ]
  },
  {
   "cell_type": "markdown",
   "metadata": {},
   "source": [
    "## Conclusion\n",
    "\n",
    "- Models like Gradient Boosting and Random Forest performed best.\n",
    "- Linear regression struggled, likely due to nonlinearities.\n",
    "- Residual plots and metrics suggest moderate predictive power — consistent with noisy clinical targets.\n",
    "\n",
    "**Next Steps:**\n",
    "- Expand dataset to include more NHANES cycles\n",
    "- Explore additional features (e.g., survey weights, diet ratios)\n",
    "- Try ensembling and calibration"
   ]
  }
 ],
 "metadata": {
  "kernelspec": {
   "display_name": "Python 3",
   "language": "python",
   "name": "python3"
  },
  "language_info": {
   "name": "python",
   "version": ""
  }
 },
 "nbformat": 4,
 "nbformat_minor": 5
}
