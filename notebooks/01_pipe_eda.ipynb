
# === Setup ===
import pandas as pd
import numpy as np
import matplotlib.pyplot as plt
import seaborn as sns
import yaml
from pathlib import Path

# === Load cleaned data ===
df = pd.read_csv("data/processed/cleaned_nhanes.csv")

# === Load config and extract target list ===
with open("data/config/features.yaml", "r") as f:
    config = yaml.safe_load(f)

# Get features and targets from config
targets = [f["name"] for f in config["features"] if f.get("target", False)]
features = [f["name"] for f in config["features"] if f.get("include", True) and not f.get("target", False)]

print("\n🎯 Targets:", targets)
print("\n📊 Features:", features)

# === Quick data overview ===
print("\n✅ Data shape:", df.shape)
df.head()

# === Missingness ===
missing = df[features + targets].isna().mean().sort_values(ascending=False)
plt.figure(figsize=(6, len(missing) * 0.3))
sns.barplot(x=missing.values, y=missing.index, color='steelblue')
plt.title("Missingness Fraction by Variable")
plt.xlabel("Fraction Missing")
plt.ylabel("Variable")
plt.tight_layout()
plt.show()

# === Correlation heatmap (numerics only) ===
numeric_df = df[features + targets].select_dtypes(include=[np.number])
corr = numeric_df.corr()
plt.figure(figsize=(10, 8))
sns.heatmap(corr, cmap='coolwarm', center=0, annot=True, fmt=".2f")
plt.title("Pearson Correlation Matrix")
plt.tight_layout()
plt.show()

# === Distributions of targets ===
for target in targets:
    plt.figure(figsize=(5, 3))
    sns.histplot(df[target].dropna(), kde=True, bins=30, color="coral")
    plt.title(f"Distribution of {target}")
    plt.tight_layout()
    plt.show()
